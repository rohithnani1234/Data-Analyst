{
 "cells": [
  {
   "cell_type": "code",
   "execution_count": 1,
   "id": "3cad1590-56f8-483a-88f2-8d1039b0416f",
   "metadata": {},
   "outputs": [
    {
     "name": "stdout",
     "output_type": "stream",
     "text": [
      "    Name  Age  Salary\n",
      "0   John   25   30000\n",
      "1  Peter   28   45000\n",
      "2   Lisa   31   25000\n"
     ]
    }
   ],
   "source": [
    "#creating of dataframes\n",
    "import pandas as pd\n",
    "data={\"Name\":[\"John\",\"Peter\",\"Lisa\"],\n",
    "     \"Age\":[25,28,31],\n",
    "     \"Salary\":[30000,45000,25000]}\n",
    "df=pd.DataFrame(data)\n",
    "print(df)"
   ]
  },
  {
   "cell_type": "code",
   "execution_count": 2,
   "id": "e2b31ea4-4b9f-4ed9-86c8-0c0e86674e79",
   "metadata": {},
   "outputs": [
    {
     "name": "stdout",
     "output_type": "stream",
     "text": [
      "     PassengerId  Survived  Pclass  \\\n",
      "0              1         0       3   \n",
      "1              2         1       1   \n",
      "2              3         1       3   \n",
      "3              4         1       1   \n",
      "4              5         0       3   \n",
      "..           ...       ...     ...   \n",
      "886          887         0       2   \n",
      "887          888         1       1   \n",
      "888          889         0       3   \n",
      "889          890         1       1   \n",
      "890          891         0       3   \n",
      "\n",
      "                                                  Name     Sex   Age  SibSp  \\\n",
      "0                              Braund, Mr. Owen Harris    male  22.0      1   \n",
      "1    Cumings, Mrs. John Bradley (Florence Briggs Th...  female  38.0      1   \n",
      "2                               Heikkinen, Miss. Laina  female  26.0      0   \n",
      "3         Futrelle, Mrs. Jacques Heath (Lily May Peel)  female  35.0      1   \n",
      "4                             Allen, Mr. William Henry    male  35.0      0   \n",
      "..                                                 ...     ...   ...    ...   \n",
      "886                              Montvila, Rev. Juozas    male  27.0      0   \n",
      "887                       Graham, Miss. Margaret Edith  female  19.0      0   \n",
      "888           Johnston, Miss. Catherine Helen \"Carrie\"  female   NaN      1   \n",
      "889                              Behr, Mr. Karl Howell    male  26.0      0   \n",
      "890                                Dooley, Mr. Patrick    male  32.0      0   \n",
      "\n",
      "     Parch            Ticket     Fare Cabin Embarked  \n",
      "0        0         A/5 21171   7.2500   NaN        S  \n",
      "1        0          PC 17599  71.2833   C85        C  \n",
      "2        0  STON/O2. 3101282   7.9250   NaN        S  \n",
      "3        0            113803  53.1000  C123        S  \n",
      "4        0            373450   8.0500   NaN        S  \n",
      "..     ...               ...      ...   ...      ...  \n",
      "886      0            211536  13.0000   NaN        S  \n",
      "887      0            112053  30.0000   B42        S  \n",
      "888      2        W./C. 6607  23.4500   NaN        S  \n",
      "889      0            111369  30.0000  C148        C  \n",
      "890      0            370376   7.7500   NaN        Q  \n",
      "\n",
      "[891 rows x 12 columns]\n"
     ]
    }
   ],
   "source": [
    "data=pd.read_csv('./train.csv')\n",
    "print(data)"
   ]
  },
  {
   "cell_type": "code",
   "execution_count": 3,
   "id": "de858035-b616-47c0-a291-d02250fb00c7",
   "metadata": {},
   "outputs": [
    {
     "name": "stdout",
     "output_type": "stream",
     "text": [
      "Requirement already satisfied: openpyxl in c:\\users\\rohit\\anaconda\\lib\\site-packages (3.0.10)\n",
      "Requirement already satisfied: et_xmlfile in c:\\users\\rohit\\anaconda\\lib\\site-packages (from openpyxl) (1.1.0)\n",
      "     CustomerID   Genre  Age  Annual_Income_(k$)  Spending_Score\n",
      "0             1    Male   19                  15              39\n",
      "1             2    Male   21                  15              81\n",
      "2             3  Female   20                  16               6\n",
      "3             4  Female   23                  16              77\n",
      "4             5  Female   31                  17              40\n",
      "..          ...     ...  ...                 ...             ...\n",
      "195         196  Female   35                 120              79\n",
      "196         197  Female   45                 126              28\n",
      "197         198    Male   32                 126              74\n",
      "198         199    Male   32                 137              18\n",
      "199         200    Male   30                 137              83\n",
      "\n",
      "[200 rows x 5 columns]\n"
     ]
    }
   ],
   "source": [
    "#for reading csv files\n",
    "!pip install openpyxl\n",
    "import pandas as pd\n",
    "data=pd.read_csv('./Mall_Customers.csv')\n",
    "print(data)"
   ]
  },
  {
   "cell_type": "code",
   "execution_count": 4,
   "id": "b5c04a29-8b65-4bae-af8e-5bae7f1a6d83",
   "metadata": {},
   "outputs": [
    {
     "name": "stdout",
     "output_type": "stream",
     "text": [
      "     CustomerID   Genre  Age  Annual_Income_(k$)  Spending_Score\n",
      "0             1    Male   19                  15              39\n",
      "1             2    Male   21                  15              81\n",
      "2             3  Female   20                  16               6\n",
      "3             4  Female   23                  16              77\n",
      "4             5  Female   31                  17              40\n",
      "..          ...     ...  ...                 ...             ...\n",
      "195         196  Female   35                 120              79\n",
      "196         197  Female   45                 126              28\n",
      "197         198    Male   32                 126              74\n",
      "198         199    Male   32                 137              18\n",
      "199         200    Male   30                 137              83\n",
      "\n",
      "[200 rows x 5 columns]\n"
     ]
    }
   ],
   "source": [
    "#exploring data in pandas\n",
    "data=pd.read_csv('./Mall_Customers.csv')\n",
    "print(data)\n"
   ]
  },
  {
   "cell_type": "code",
   "execution_count": 5,
   "id": "aed5f22c-860e-4afe-b565-acfe590fced9",
   "metadata": {},
   "outputs": [
    {
     "name": "stdout",
     "output_type": "stream",
     "text": [
      "   CustomerID   Genre  Age  Annual_Income_(k$)  Spending_Score\n",
      "0           1    Male   19                  15              39\n",
      "1           2    Male   21                  15              81\n",
      "2           3  Female   20                  16               6\n",
      "3           4  Female   23                  16              77\n",
      "4           5  Female   31                  17              40\n",
      "5           6  Female   22                  17              76\n",
      "6           7  Female   35                  18               6\n",
      "7           8  Female   23                  18              94\n",
      "8           9    Male   64                  19               3\n",
      "9          10  Female   30                  19              72\n"
     ]
    }
   ],
   "source": [
    "print(data.head(10)) #first 10 values"
   ]
  },
  {
   "cell_type": "code",
   "execution_count": 6,
   "id": "0c69660b-886b-444a-b79f-00495ee687f5",
   "metadata": {},
   "outputs": [
    {
     "name": "stdout",
     "output_type": "stream",
     "text": [
      "     CustomerID   Genre  Age  Annual_Income_(k$)  Spending_Score\n",
      "190         191  Female   34                 103              23\n",
      "191         192  Female   32                 103              69\n",
      "192         193    Male   33                 113               8\n",
      "193         194  Female   38                 113              91\n",
      "194         195  Female   47                 120              16\n",
      "195         196  Female   35                 120              79\n",
      "196         197  Female   45                 126              28\n",
      "197         198    Male   32                 126              74\n",
      "198         199    Male   32                 137              18\n",
      "199         200    Male   30                 137              83\n"
     ]
    }
   ],
   "source": [
    "print(data.tail(10)) #last 10 values"
   ]
  },
  {
   "cell_type": "code",
   "execution_count": 7,
   "id": "83334db7-5845-457d-9062-2e552945bc0e",
   "metadata": {},
   "outputs": [
    {
     "name": "stdout",
     "output_type": "stream",
     "text": [
      "<class 'pandas.core.frame.DataFrame'>\n",
      "RangeIndex: 200 entries, 0 to 199\n",
      "Data columns (total 5 columns):\n",
      " #   Column              Non-Null Count  Dtype \n",
      "---  ------              --------------  ----- \n",
      " 0   CustomerID          200 non-null    int64 \n",
      " 1   Genre               200 non-null    object\n",
      " 2   Age                 200 non-null    int64 \n",
      " 3   Annual_Income_(k$)  200 non-null    int64 \n",
      " 4   Spending_Score      200 non-null    int64 \n",
      "dtypes: int64(4), object(1)\n",
      "memory usage: 7.9+ KB\n",
      "None\n"
     ]
    }
   ],
   "source": [
    "print(data.info()) #gives information abou that csv"
   ]
  },
  {
   "cell_type": "code",
   "execution_count": 8,
   "id": "5395a121-9578-4beb-95ab-0786fa9ecc52",
   "metadata": {},
   "outputs": [
    {
     "data": {
      "text/html": [
       "<div>\n",
       "<style scoped>\n",
       "    .dataframe tbody tr th:only-of-type {\n",
       "        vertical-align: middle;\n",
       "    }\n",
       "\n",
       "    .dataframe tbody tr th {\n",
       "        vertical-align: top;\n",
       "    }\n",
       "\n",
       "    .dataframe thead th {\n",
       "        text-align: right;\n",
       "    }\n",
       "</style>\n",
       "<table border=\"1\" class=\"dataframe\">\n",
       "  <thead>\n",
       "    <tr style=\"text-align: right;\">\n",
       "      <th></th>\n",
       "      <th>CustomerID</th>\n",
       "      <th>Age</th>\n",
       "      <th>Annual_Income_(k$)</th>\n",
       "      <th>Spending_Score</th>\n",
       "    </tr>\n",
       "  </thead>\n",
       "  <tbody>\n",
       "    <tr>\n",
       "      <th>count</th>\n",
       "      <td>200.000000</td>\n",
       "      <td>200.000000</td>\n",
       "      <td>200.000000</td>\n",
       "      <td>200.000000</td>\n",
       "    </tr>\n",
       "    <tr>\n",
       "      <th>mean</th>\n",
       "      <td>100.500000</td>\n",
       "      <td>38.850000</td>\n",
       "      <td>60.560000</td>\n",
       "      <td>50.200000</td>\n",
       "    </tr>\n",
       "    <tr>\n",
       "      <th>std</th>\n",
       "      <td>57.879185</td>\n",
       "      <td>13.969007</td>\n",
       "      <td>26.264721</td>\n",
       "      <td>25.823522</td>\n",
       "    </tr>\n",
       "    <tr>\n",
       "      <th>min</th>\n",
       "      <td>1.000000</td>\n",
       "      <td>18.000000</td>\n",
       "      <td>15.000000</td>\n",
       "      <td>1.000000</td>\n",
       "    </tr>\n",
       "    <tr>\n",
       "      <th>25%</th>\n",
       "      <td>50.750000</td>\n",
       "      <td>28.750000</td>\n",
       "      <td>41.500000</td>\n",
       "      <td>34.750000</td>\n",
       "    </tr>\n",
       "    <tr>\n",
       "      <th>50%</th>\n",
       "      <td>100.500000</td>\n",
       "      <td>36.000000</td>\n",
       "      <td>61.500000</td>\n",
       "      <td>50.000000</td>\n",
       "    </tr>\n",
       "    <tr>\n",
       "      <th>75%</th>\n",
       "      <td>150.250000</td>\n",
       "      <td>49.000000</td>\n",
       "      <td>78.000000</td>\n",
       "      <td>73.000000</td>\n",
       "    </tr>\n",
       "    <tr>\n",
       "      <th>max</th>\n",
       "      <td>200.000000</td>\n",
       "      <td>70.000000</td>\n",
       "      <td>137.000000</td>\n",
       "      <td>99.000000</td>\n",
       "    </tr>\n",
       "  </tbody>\n",
       "</table>\n",
       "</div>"
      ],
      "text/plain": [
       "       CustomerID         Age  Annual_Income_(k$)  Spending_Score\n",
       "count  200.000000  200.000000          200.000000      200.000000\n",
       "mean   100.500000   38.850000           60.560000       50.200000\n",
       "std     57.879185   13.969007           26.264721       25.823522\n",
       "min      1.000000   18.000000           15.000000        1.000000\n",
       "25%     50.750000   28.750000           41.500000       34.750000\n",
       "50%    100.500000   36.000000           61.500000       50.000000\n",
       "75%    150.250000   49.000000           78.000000       73.000000\n",
       "max    200.000000   70.000000          137.000000       99.000000"
      ]
     },
     "execution_count": 8,
     "metadata": {},
     "output_type": "execute_result"
    }
   ],
   "source": [
    "data.describe()"
   ]
  },
  {
   "cell_type": "code",
   "execution_count": 9,
   "id": "0524a74c-0c21-4a56-9924-039838420dfe",
   "metadata": {},
   "outputs": [
    {
     "name": "stdout",
     "output_type": "stream",
     "text": [
      "CustomerID            0\n",
      "Genre                 0\n",
      "Age                   0\n",
      "Annual_Income_(k$)    0\n",
      "Spending_Score        0\n",
      "dtype: int64\n"
     ]
    }
   ],
   "source": [
    "print(data.isnull().sum())"
   ]
  },
  {
   "cell_type": "code",
   "execution_count": 10,
   "id": "7700ecec-f302-438d-b2b3-2c2f8a6af56f",
   "metadata": {},
   "outputs": [
    {
     "name": "stdout",
     "output_type": "stream",
     "text": [
      "0      False\n",
      "1      False\n",
      "2      False\n",
      "3      False\n",
      "4      False\n",
      "       ...  \n",
      "195    False\n",
      "196    False\n",
      "197    False\n",
      "198    False\n",
      "199    False\n",
      "Length: 200, dtype: bool\n"
     ]
    }
   ],
   "source": [
    "#handling duplicate values in pandas\n",
    "print(data.duplicated())"
   ]
  },
  {
   "cell_type": "code",
   "execution_count": 11,
   "id": "7afa8219-6f7b-4be9-90e5-593f7c2e9da1",
   "metadata": {},
   "outputs": [
    {
     "name": "stdout",
     "output_type": "stream",
     "text": [
      "0\n"
     ]
    }
   ],
   "source": [
    "#duplicated column wise\n",
    "print(data.duplicated(['CustomerID','Age']).sum())"
   ]
  },
  {
   "cell_type": "code",
   "execution_count": 12,
   "id": "15286a43-b254-44db-8ebf-7bc9b6152a1d",
   "metadata": {},
   "outputs": [
    {
     "name": "stdout",
     "output_type": "stream",
     "text": [
      "     CustomerID   Genre  Age  Annual_Income_(k$)  Spending_Score\n",
      "0             1    Male   19                  15              39\n",
      "1             2    Male   21                  15              81\n",
      "2             3  Female   20                  16               6\n",
      "3             4  Female   23                  16              77\n",
      "4             5  Female   31                  17              40\n",
      "..          ...     ...  ...                 ...             ...\n",
      "195         196  Female   35                 120              79\n",
      "196         197  Female   45                 126              28\n",
      "197         198    Male   32                 126              74\n",
      "198         199    Male   32                 137              18\n",
      "199         200    Male   30                 137              83\n",
      "\n",
      "[200 rows x 5 columns]\n"
     ]
    }
   ],
   "source": [
    "#to drop duplicates\n",
    "print(data.drop_duplicates())"
   ]
  },
  {
   "cell_type": "code",
   "execution_count": 13,
   "id": "7a3d2eb6-55c3-48f2-80a9-d0ccf53761b1",
   "metadata": {},
   "outputs": [
    {
     "name": "stdout",
     "output_type": "stream",
     "text": [
      "     CustomerID   Genre  Age  Annual_Income_(k$)  Spending_Score\n",
      "0             1    Male   19                  15              39\n",
      "1             2    Male   21                  15              81\n",
      "2             3  Female   20                  16               6\n",
      "3             4  Female   23                  16              77\n",
      "4             5  Female   31                  17              40\n",
      "..          ...     ...  ...                 ...             ...\n",
      "195         196  Female   35                 120              79\n",
      "196         197  Female   45                 126              28\n",
      "197         198    Male   32                 126              74\n",
      "198         199    Male   32                 137              18\n",
      "199         200    Male   30                 137              83\n",
      "\n",
      "[200 rows x 5 columns]\n"
     ]
    }
   ],
   "source": [
    "print(data.drop_duplicates('CustomerID'))"
   ]
  },
  {
   "cell_type": "code",
   "execution_count": 14,
   "id": "895ce6b9-1e38-4815-a265-11eb3c5788af",
   "metadata": {},
   "outputs": [
    {
     "name": "stdout",
     "output_type": "stream",
     "text": [
      "     CustomerID  Genre    Age  Annual_Income_(k$)  Spending_Score\n",
      "0         False  False  False               False           False\n",
      "1         False  False  False               False           False\n",
      "2         False  False  False               False           False\n",
      "3         False  False  False               False           False\n",
      "4         False  False  False               False           False\n",
      "..          ...    ...    ...                 ...             ...\n",
      "195       False  False  False               False           False\n",
      "196       False  False  False               False           False\n",
      "197       False  False  False               False           False\n",
      "198       False  False  False               False           False\n",
      "199       False  False  False               False           False\n",
      "\n",
      "[200 rows x 5 columns]\n"
     ]
    }
   ],
   "source": [
    "#working with missing data or handling null values\n",
    "print(data.isnull())"
   ]
  },
  {
   "cell_type": "code",
   "execution_count": 15,
   "id": "9dd6af78-d3c0-4539-80db-afa6e9e4b219",
   "metadata": {},
   "outputs": [
    {
     "name": "stdout",
     "output_type": "stream",
     "text": [
      "CustomerID            0\n",
      "Genre                 0\n",
      "Age                   0\n",
      "Annual_Income_(k$)    0\n",
      "Spending_Score        0\n",
      "dtype: int64\n"
     ]
    }
   ],
   "source": [
    "print(data.isnull().sum())"
   ]
  },
  {
   "cell_type": "code",
   "execution_count": 16,
   "id": "037d4055-0824-4354-9301-03f64a54a10f",
   "metadata": {},
   "outputs": [
    {
     "name": "stdout",
     "output_type": "stream",
     "text": [
      "     CustomerID   Genre  Age  Annual_Income_(k$)  Spending_Score\n",
      "0             1    Male   19                  15              39\n",
      "1             2    Male   21                  15              81\n",
      "2             3  Female   20                  16               6\n",
      "3             4  Female   23                  16              77\n",
      "4             5  Female   31                  17              40\n",
      "..          ...     ...  ...                 ...             ...\n",
      "195         196  Female   35                 120              79\n",
      "196         197  Female   45                 126              28\n",
      "197         198    Male   32                 126              74\n",
      "198         199    Male   32                 137              18\n",
      "199         200    Male   30                 137              83\n",
      "\n",
      "[200 rows x 5 columns]\n"
     ]
    }
   ],
   "source": [
    "print(data.dropna())"
   ]
  },
  {
   "cell_type": "code",
   "execution_count": 17,
   "id": "8faec412-5a0f-4662-9db1-230d58e48519",
   "metadata": {},
   "outputs": [
    {
     "name": "stdout",
     "output_type": "stream",
     "text": [
      "     CustomerID   Genre  Age  Annual_Income_(k$)  Spending_Score\n",
      "0             1    Male   19                  15              39\n",
      "1             2    Male   21                  15              81\n",
      "2             3  Female   20                  16               6\n",
      "3             4  Female   23                  16              77\n",
      "4             5  Female   31                  17              40\n",
      "..          ...     ...  ...                 ...             ...\n",
      "195         196  Female   35                 120              79\n",
      "196         197  Female   45                 126              28\n",
      "197         198    Male   32                 126              74\n",
      "198         199    Male   32                 137              18\n",
      "199         200    Male   30                 137              83\n",
      "\n",
      "[200 rows x 5 columns]\n"
     ]
    }
   ],
   "source": [
    "import numpy as np\n",
    "print(data.replace(np.nan,30000))"
   ]
  },
  {
   "cell_type": "code",
   "execution_count": 18,
   "id": "03acd737-ed3b-4d45-83b7-b408679452eb",
   "metadata": {},
   "outputs": [
    {
     "name": "stdout",
     "output_type": "stream",
     "text": [
      "     CustomerID   Genre  Age  Annual_Income_(k$)  Spending_Score\n",
      "0             1    Male   19                  15              39\n",
      "1             2    Male   21                  15              81\n",
      "2             3  Female   20                  16               6\n",
      "3             4  Female   23                  16              77\n",
      "4             5  Female   31                  17              40\n",
      "..          ...     ...  ...                 ...             ...\n",
      "195         196  Female   35                 120              79\n",
      "196         197  Female   45                 126              28\n",
      "197         198    Male   32                 126              74\n",
      "198         199    Male   32                 137              18\n",
      "199         200    Male   30                 137              83\n",
      "\n",
      "[200 rows x 5 columns]\n",
      "50.2\n"
     ]
    }
   ],
   "source": [
    "data[\"Spending_Score\"]=data[\"Spending_Score\"].replace(np.nan,30000)\n",
    "print(data)\n",
    "print(data[\"Spending_Score\"].mean())"
   ]
  },
  {
   "cell_type": "code",
   "execution_count": 19,
   "id": "d0d02385-cdd2-4264-82b3-d7de7a508d9f",
   "metadata": {},
   "outputs": [
    {
     "name": "stdout",
     "output_type": "stream",
     "text": [
      "     CustomerID   Genre  Age  Annual_Income_(k$)  Spending_Score\n",
      "0             1    Male   19                  15              39\n",
      "1             2    Male   21                  15              81\n",
      "2             3  Female   20                  16               6\n",
      "3             4  Female   23                  16              77\n",
      "4             5  Female   31                  17              40\n",
      "..          ...     ...  ...                 ...             ...\n",
      "195         196  Female   35                 120              79\n",
      "196         197  Female   45                 126              28\n",
      "197         198    Male   32                 126              74\n",
      "198         199    Male   32                 137              18\n",
      "199         200    Male   30                 137              83\n",
      "\n",
      "[200 rows x 5 columns]\n"
     ]
    },
    {
     "name": "stderr",
     "output_type": "stream",
     "text": [
      "C:\\Users\\rohit\\AppData\\Local\\Temp\\ipykernel_2028\\911192665.py:1: FutureWarning: DataFrame.fillna with 'method' is deprecated and will raise in a future version. Use obj.ffill() or obj.bfill() instead.\n",
      "  print(data.fillna(method=\"bfill\")) #bfil - backwardfill - it takes the backward value of that number\n"
     ]
    }
   ],
   "source": [
    "print(data.fillna(method=\"bfill\")) #bfil - backwardfill - it takes the backward value of that number"
   ]
  },
  {
   "cell_type": "code",
   "execution_count": 20,
   "id": "e7145c42-3d3a-4588-b3ed-9993e17c4b88",
   "metadata": {
    "scrolled": true
   },
   "outputs": [
    {
     "name": "stdout",
     "output_type": "stream",
     "text": [
      "     CustomerID   Genre  Age  Annual_Income_(k$)  Spending_Score\n",
      "0             1    Male   19                  15              39\n",
      "1             2    Male   21                  15              81\n",
      "2             3  Female   20                  16               6\n",
      "3             4  Female   23                  16              77\n",
      "4             5  Female   31                  17              40\n",
      "..          ...     ...  ...                 ...             ...\n",
      "195         196  Female   35                 120              79\n",
      "196         197  Female   45                 126              28\n",
      "197         198    Male   32                 126              74\n",
      "198         199    Male   32                 137              18\n",
      "199         200    Male   30                 137              83\n",
      "\n",
      "[200 rows x 5 columns]\n"
     ]
    },
    {
     "name": "stderr",
     "output_type": "stream",
     "text": [
      "C:\\Users\\rohit\\AppData\\Local\\Temp\\ipykernel_2028\\1234282104.py:1: FutureWarning: DataFrame.fillna with 'method' is deprecated and will raise in a future version. Use obj.ffill() or obj.bfill() instead.\n",
      "  print(data.fillna(method=\"ffill\")) #ffil - forwardfill - it takes the forward value of that number\n"
     ]
    },
    {
     "data": {
      "text/plain": [
       "'especially when the assumption of the location of the missing value with the previous or next value is reasonable and has a pattern in some columns, provided that the ffill and bfill functions must be assisted by other functions.'"
      ]
     },
     "execution_count": 20,
     "metadata": {},
     "output_type": "execute_result"
    }
   ],
   "source": [
    "print(data.fillna(method=\"ffill\")) #ffil - forwardfill - it takes the forward value of that number\n",
    "#both bfill and ffill used for data cleaning purpose\n",
    "'''especially when the assumption of the location of the missing value with the previous or next value is reasonable and has a pattern in some columns, provided that the ffill and bfill functions must be assisted by other functions.'''"
   ]
  },
  {
   "cell_type": "code",
   "execution_count": 21,
   "id": "a1e3b434-313e-4d4c-bcdd-ad54591f929e",
   "metadata": {},
   "outputs": [
    {
     "name": "stdout",
     "output_type": "stream",
     "text": [
      "     CustomerID   Genre  Age  Annual_Income_(k$)  Spending_Score\n",
      "0             1    Male   19                  15              39\n",
      "1             2    Male   21                  15              81\n",
      "2             3  Female   20                  16               6\n",
      "3             4  Female   23                  16              77\n",
      "4             5  Female   31                  17              40\n",
      "..          ...     ...  ...                 ...             ...\n",
      "195         196  Female   35                 120              79\n",
      "196         197  Female   45                 126              28\n",
      "197         198    Male   32                 126              74\n",
      "198         199    Male   32                 137              18\n",
      "199         200    Male   30                 137              83\n",
      "\n",
      "[200 rows x 5 columns]\n"
     ]
    }
   ],
   "source": [
    "print(data.fillna(\"hi\"))"
   ]
  },
  {
   "cell_type": "code",
   "execution_count": 22,
   "id": "9dcc0b32-d7a7-4f17-be1e-f916a4b2406f",
   "metadata": {},
   "outputs": [
    {
     "name": "stdout",
     "output_type": "stream",
     "text": [
      "     CustomerID   Genre  Age  Annual_Income_(k$)  Spending_Score\n",
      "0             1    Male   19                  15              39\n",
      "1             2    Male   21                  15              81\n",
      "2             3  Female   20                  16               6\n",
      "3             4  Female   23                  16              77\n",
      "4             5  Female   31                  17              40\n",
      "..          ...     ...  ...                 ...             ...\n",
      "195         196  Female   35                 120              79\n",
      "196         197  Female   45                 126              28\n",
      "197         198    Male   32                 126              74\n",
      "198         199    Male   32                 137              18\n",
      "199         200    Male   30                 137              83\n",
      "\n",
      "[200 rows x 5 columns]\n"
     ]
    }
   ],
   "source": [
    "data=pd.read_csv('./Mall_Customers.csv')\n",
    "print(data)"
   ]
  },
  {
   "cell_type": "code",
   "execution_count": 23,
   "id": "3a42b442-be91-4e12-bfbe-15775cd700a2",
   "metadata": {},
   "outputs": [
    {
     "name": "stdout",
     "output_type": "stream",
     "text": [
      "   CustomerID   Genre  Age  Annual_Income_(k$)  Spending_Score Get Bonus\n",
      "0           1    Male   19                  15              39       nan\n",
      "1           2    Male   21                  15              81       nan\n",
      "2           3  Female   20                  16               6     bonus\n",
      "3           4  Female   23                  16              77     bonus\n",
      "4           5  Female   31                  17              40     bonus\n",
      "5           6  Female   22                  17              76     bonus\n",
      "6           7  Female   35                  18               6     bonus\n",
      "7           8  Female   23                  18              94     bonus\n",
      "8           9    Male   64                  19               3     bonus\n",
      "9          10  Female   30                  19              72     bonus\n"
     ]
    }
   ],
   "source": [
    "data.loc[(data[\"Annual_Income_(k$)\"]<15),\"Get Bonus\"]=\"no bonus\"\n",
    "data.loc[(data[\"Annual_Income_(k$)\"]>15),\"Get Bonus\"]=\"bonus\"\n",
    "print(data.head(10))"
   ]
  },
  {
   "cell_type": "code",
   "execution_count": 24,
   "id": "5228f758-d034-42d0-b041-993416b92be4",
   "metadata": {},
   "outputs": [
    {
     "name": "stdout",
     "output_type": "stream",
     "text": [
      "     CustomerID   Genre  Age  Annual_Income_(k$)  Spending_Score Get Bonus  \\\n",
      "0             1    Male   19                  15              39       nan   \n",
      "1             2    Male   21                  15              81       nan   \n",
      "2             3  Female   20                  16               6     bonus   \n",
      "3             4  Female   23                  16              77     bonus   \n",
      "4             5  Female   31                  17              40     bonus   \n",
      "..          ...     ...  ...                 ...             ...       ...   \n",
      "195         196  Female   35                 120              79     bonus   \n",
      "196         197  Female   45                 126              28     bonus   \n",
      "197         198    Male   32                 126              74     bonus   \n",
      "198         199    Male   32                 137              18     bonus   \n",
      "199         200    Male   30                 137              83     bonus   \n",
      "\n",
      "     Bonus  \n",
      "0      3.0  \n",
      "1      3.0  \n",
      "2      3.2  \n",
      "3      3.2  \n",
      "4      3.4  \n",
      "..     ...  \n",
      "195   24.0  \n",
      "196   25.2  \n",
      "197   25.2  \n",
      "198   27.4  \n",
      "199   27.4  \n",
      "\n",
      "[200 rows x 7 columns]\n"
     ]
    }
   ],
   "source": [
    "#methods of column transformation\n",
    "data[\"Bonus\"]=(data[\"Annual_Income_(k$)\"]/100)*20\n",
    "print(data)"
   ]
  },
  {
   "cell_type": "code",
   "execution_count": 25,
   "id": "32f9f69b-f43e-40a8-b98d-15a7bc96ee79",
   "metadata": {},
   "outputs": [
    {
     "name": "stdout",
     "output_type": "stream",
     "text": [
      "     Months\n",
      "0   January\n",
      "1  February\n",
      "2     March\n",
      "3     April\n",
      "     Months Short_months\n",
      "0   January          Jan\n",
      "1  February          Feb\n",
      "2     March          Mar\n",
      "3     April          Apr\n"
     ]
    }
   ],
   "source": [
    "data={\"Months\":[\"January\",\"February\",\"March\",\"April\"]}\n",
    "a=pd.DataFrame(data)\n",
    "print(a)\n",
    "def extract(value):\n",
    "    return value[0:3]\n",
    "a[\"Short_months\"]=a[\"Months\"].map(extract)\n",
    "print(a)"
   ]
  },
  {
   "cell_type": "code",
   "execution_count": 26,
   "id": "e075c2a3-558b-4dff-905e-012f893af8fa",
   "metadata": {},
   "outputs": [
    {
     "ename": "AttributeError",
     "evalue": "'dict' object has no attribute 'groupby'",
     "output_type": "error",
     "traceback": [
      "\u001b[1;31m---------------------------------------------------------------------------\u001b[0m",
      "\u001b[1;31mAttributeError\u001b[0m                            Traceback (most recent call last)",
      "Cell \u001b[1;32mIn[26], line 2\u001b[0m\n\u001b[0;32m      1\u001b[0m \u001b[38;5;66;03m#group by i column transforming\u001b[39;00m\n\u001b[1;32m----> 2\u001b[0m gp \u001b[38;5;241m=\u001b[39m data\u001b[38;5;241m.\u001b[39mgroupby(\u001b[38;5;124m\"\u001b[39m\u001b[38;5;124mAge\u001b[39m\u001b[38;5;124m\"\u001b[39m)\u001b[38;5;241m.\u001b[39magg({\u001b[38;5;124m\"\u001b[39m\u001b[38;5;124mGenre\u001b[39m\u001b[38;5;124m\"\u001b[39m:\u001b[38;5;124m\"\u001b[39m\u001b[38;5;124mcount\u001b[39m\u001b[38;5;124m\"\u001b[39m})\u001b[38;5;241m.\u001b[39mreset_index()\n\u001b[0;32m      3\u001b[0m \u001b[38;5;28mprint\u001b[39m(gp)\n",
      "\u001b[1;31mAttributeError\u001b[0m: 'dict' object has no attribute 'groupby'"
     ]
    }
   ],
   "source": [
    "#group by i column transforming\n",
    "gp = data.groupby(\"Age\").agg({\"Genre\":\"count\"}).reset_index()\n",
    "print(gp)"
   ]
  },
  {
   "cell_type": "code",
   "execution_count": null,
   "id": "ec4ce91b-bdc4-48df-9786-b22844db8b39",
   "metadata": {},
   "outputs": [],
   "source": [
    "#Merge,Join and Concatenate in pandas\n",
    "import pandas as pd\n",
    "\n",
    "data1 = {\n",
    "    \"Emp Id\": [\"E01\", \"E02\", \"E03\", \"E04\", \"E05\", \"E06\"],\n",
    "    \"Names\": [\"Ram\", \"Shyam\", \"Rahul\", \"Vishal\", \"Ravi\", \"John\"],\n",
    "    \"Age\": [34, 56, 23, 44, 32, 36]\n",
    "}\n",
    "\n",
    "data2 = {\n",
    "    \"Emp Id\": [\"E01\", \"E02\", \"E03\", \"E04\", \"E05\", \"E06\"],\n",
    "    \"Salary\": [45000, 56000, 34000, 30000, 50000, 62000]\n",
    "}\n",
    "\n",
    "df1 = pd.DataFrame(data1)\n",
    "df2 = pd.DataFrame(data2)\n",
    "\n",
    "print(df1)\n",
    "print()\n",
    "print(df2)\n"
   ]
  },
  {
   "cell_type": "code",
   "execution_count": null,
   "id": "e94a00e8-5a6d-4a2b-99bb-81a41ecfbc0b",
   "metadata": {},
   "outputs": [],
   "source": [
    "print(pd.merge(df1,df2,on=\"Emp Id\"))"
   ]
  },
  {
   "cell_type": "code",
   "execution_count": null,
   "id": "8c719540-2364-41bd-b968-a433fc503c0c",
   "metadata": {},
   "outputs": [],
   "source": [
    "data1 = {\n",
    "    \"Emp Id\": [\"E01\", \"E02\", \"E03\", \"E04\", \"E05\", \"E06\"],\n",
    "    \"Names\": [\"Ram\", \"Shyam\", \"Rahul\", \"Vishal\", \"Ravi\", \"John\"],\n",
    "    \"Age\": [34, 56, 23, 44, 32, 36]\n",
    "}\n",
    "\n",
    "data2 = {\n",
    "    \"Emp Id\": [\"E01\", \"E07\", \"E03\", \"E04\", \"E08\", \"E06\"],\n",
    "    \"Salary\": [45000, 56000, 34000, 30000, 50000, 62000]\n",
    "}\n",
    "\n",
    "df1 = pd.DataFrame(data1)\n",
    "df2 = pd.DataFrame(data2)\n",
    "\n",
    "print(df1)\n",
    "print()\n",
    "print(df2)\n"
   ]
  },
  {
   "cell_type": "code",
   "execution_count": null,
   "id": "fe2b7ec0-ca9c-45e1-a843-331854380d1d",
   "metadata": {},
   "outputs": [],
   "source": [
    "print(pd.merge(df1,df2,on=\"Emp Id\")) #here we have only 4 common value so it takes 4 values and it will never take differrent values\n"
   ]
  },
  {
   "cell_type": "code",
   "execution_count": null,
   "id": "402e2f38-da9a-46ef-9b5f-f8a77ef1f91e",
   "metadata": {},
   "outputs": [],
   "source": [
    "print(pd.merge(df1,df2,on=\"Emp Id\",how=\"left\"))\n",
    "#it works like as left join in sql as it will returns the all the df1 table value , \n",
    "#that it checks the commons first and th different ones in the first dataframe will also be return\n",
    "#but the coulumn which is different it will take null value or which is not available"
   ]
  },
  {
   "cell_type": "code",
   "execution_count": null,
   "id": "6d908d15-27b9-497f-a43d-c21de4ad6592",
   "metadata": {},
   "outputs": [],
   "source": [
    "print(pd.merge(df1,df2,on=\"Emp Id\",how=\"right\"))\n",
    "#it works like as right join in sql as it will returns the all the df2 table value , \n",
    "#that it checks the commons first and the different ones in the second dataframe will also be return\n",
    "#but the coulumn which is different it will take null value or which is not available"
   ]
  },
  {
   "cell_type": "code",
   "execution_count": null,
   "id": "397c78dd-6b93-4ddf-b4f1-c9b19fa7bf7b",
   "metadata": {},
   "outputs": [],
   "source": [
    "print(pd.merge(df1,df2,on=\"Emp Id\",how=\"inner\"))\n",
    "#it works like as inner join in sql as it will returns only the common value , \n",
    "#that it checks the commons first and it will return the only same data in both dataframes"
   ]
  },
  {
   "cell_type": "code",
   "execution_count": 29,
   "id": "a9d2db64-4a9c-4d11-815c-93f60133464b",
   "metadata": {},
   "outputs": [
    {
     "name": "stdout",
     "output_type": "stream",
     "text": [
      "  Emp Id   Names  Age\n",
      "0    E01     Ram   34\n",
      "1    E02   Shyam   56\n",
      "2    E03   Rahul   23\n",
      "3    E04  Vishal   44\n",
      "4    E05    Ravi   32\n",
      "5    E06    John   36\n",
      "  Emp Id      Names  Age\n",
      "0    E07     Rohith   21\n",
      "1    E08      Vinay   20\n",
      "2    E09    Revanth   23\n",
      "3    E10  Jashwanth   56\n",
      "4    E11       Venu   31\n",
      "5    E12    Sandeep   35\n"
     ]
    }
   ],
   "source": [
    "data1 = {\n",
    "    \"Emp Id\": [\"E01\", \"E02\", \"E03\", \"E04\", \"E05\", \"E06\"],\n",
    "    \"Names\": [\"Ram\", \"Shyam\", \"Rahul\", \"Vishal\", \"Ravi\", \"John\"],\n",
    "    \"Age\": [34, 56, 23, 44, 32, 36]\n",
    "}\n",
    "\n",
    "data2 = {\n",
    "    \"Emp Id\": [\"E07\", \"E08\", \"E09\", \"E10\", \"E11\", \"E12\"],\n",
    "    \"Names\": [\"Rohith\", \"Vinay\", \"Revanth\", \"Jashwanth\", \"Venu\", \"Sandeep\"],\n",
    "    \"Age\": [21, 20, 23, 56, 31, 35]\n",
    "}\n",
    "df1=pd.DataFrame(data1)\n",
    "df2=pd.DataFrame(data2)\n",
    "print(df1)\n",
    "print(df2)"
   ]
  },
  {
   "cell_type": "code",
   "execution_count": 31,
   "id": "31f04e8d-b62d-4032-a1c8-33534a20fa7d",
   "metadata": {},
   "outputs": [
    {
     "name": "stdout",
     "output_type": "stream",
     "text": [
      "  Emp Id      Names  Age\n",
      "0    E01        Ram   34\n",
      "1    E02      Shyam   56\n",
      "2    E03      Rahul   23\n",
      "3    E04     Vishal   44\n",
      "4    E05       Ravi   32\n",
      "5    E06       John   36\n",
      "0    E07     Rohith   21\n",
      "1    E08      Vinay   20\n",
      "2    E09    Revanth   23\n",
      "3    E10  Jashwanth   56\n",
      "4    E11       Venu   31\n",
      "5    E12    Sandeep   35\n"
     ]
    }
   ],
   "source": [
    "print(pd.concat([df1,df2]))"
   ]
  },
  {
   "cell_type": "code",
   "execution_count": 52,
   "id": "d66ed183-b36f-49f0-b0cd-8a507ef36013",
   "metadata": {},
   "outputs": [
    {
     "name": "stdout",
     "output_type": "stream",
     "text": [
      "   Fruits  Price  Quantity  Quality\n",
      "0   Mango    100        15     Nice\n",
      "1   Apple    150        10       OK\n",
      "2  Banana     50        10   Better\n",
      "3  Papaya     35         3  Average\n"
     ]
    }
   ],
   "source": [
    "#Compare Data Frames\n",
    "dict={\"Fruits\":[\"Mango\",\"Apple\",\"Banana\",\"Papaya\"],\n",
    "     \"Price\":[100,150,50,35],\n",
    "     \"Quantity\":[15,10,10,3],\n",
    "     \"Quality\":[\"Nice\",\"OK\",\"Better\",\"Average\"]}\n",
    "df=pd.DataFrame(dict)\n",
    "print(df)"
   ]
  },
  {
   "cell_type": "code",
   "execution_count": 53,
   "id": "92bde590-87dd-42eb-9a91-8321b2cc007a",
   "metadata": {},
   "outputs": [
    {
     "name": "stdout",
     "output_type": "stream",
     "text": [
      "   Fruits  Price  Quantity  Quality\n",
      "0   Mango    100        15     Nice\n",
      "1   Apple    150        10       OK\n",
      "2  Banana     50        10   Better\n",
      "3  Papaya     35         3  Average\n"
     ]
    }
   ],
   "source": [
    "df3=df.copy()\n",
    "print(df3)"
   ]
  },
  {
   "cell_type": "code",
   "execution_count": 54,
   "id": "fce25db2-42e9-49c2-ba23-88654ae389e2",
   "metadata": {},
   "outputs": [
    {
     "name": "stdout",
     "output_type": "stream",
     "text": [
      "   Fruits  Price  Quantity  Quality\n",
      "0   Mango    120        12     Nice\n",
      "1   Apple    175        15       OK\n",
      "2  Banana     50        10   Better\n",
      "3  Papaya     30         5  Average\n"
     ]
    }
   ],
   "source": [
    "df3.loc[0,\"Price\"]=120\n",
    "df3.loc[1,\"Price\"]=175\n",
    "df3.loc[3,\"Price\"]=30\n",
    "df3.loc[0,\"Quantity\"]=12\n",
    "df3.loc[1,\"Quantity\"]=15\n",
    "df3.loc[3,\"Quantity\"]=5\n",
    "print(df3)"
   ]
  },
  {
   "cell_type": "code",
   "execution_count": 55,
   "id": "40c52a4e-e0ae-49ad-9d13-8e49f5c90337",
   "metadata": {},
   "outputs": [
    {
     "name": "stdout",
     "output_type": "stream",
     "text": [
      "   Fruits  Price  Quantity Quality\n",
      "0   Mango    120        12    Nice\n",
      "1   Apple    175        15      OK\n",
      "2  Banana     50        10  Better\n",
      "3  Papaya     30         5    Fine\n"
     ]
    }
   ],
   "source": [
    "#adding of column\n",
    "df3.loc[0,\"Quality\"]=\"Nice\"\n",
    "df3.loc[1,\"Quality\"]=\"OK\"\n",
    "df3.loc[2,\"Quality\"]=\"Better\"\n",
    "df3.loc[3,\"Quality\"]=\"Fine\"\n",
    "print(df3)"
   ]
  },
  {
   "cell_type": "code",
   "execution_count": 60,
   "id": "33542568-74cb-4a88-a8a0-4af79e8e9e26",
   "metadata": {},
   "outputs": [
    {
     "name": "stdout",
     "output_type": "stream",
     "text": [
      "   Price        Quantity        Quality      \n",
      "    self  other     self other     self other\n",
      "0  100.0  120.0     15.0  12.0      NaN   NaN\n",
      "1  150.0  175.0     10.0  15.0      NaN   NaN\n",
      "3   35.0   30.0      3.0   5.0  Average  Fine\n"
     ]
    }
   ],
   "source": [
    "#comparing\n",
    "print(df.compare(df3)) #it didnt returned index 2 values becoz their all values same\n",
    "#compare returns the self and other , slef -> previous values and other->new values\n"
   ]
  },
  {
   "cell_type": "code",
   "execution_count": 63,
   "id": "2c2e3297-8ff9-4d66-a7d5-1c14ee938400",
   "metadata": {},
   "outputs": [
    {
     "name": "stdout",
     "output_type": "stream",
     "text": [
      "  Price       Quantity        Quality      \n",
      "   self other     self other     self other\n",
      "0   100   120       15    12     Nice  Nice\n",
      "1   150   175       10    15       OK    OK\n",
      "3    35    30        3     5  Average  Fine\n"
     ]
    }
   ],
   "source": [
    "print(df.compare(df3,keep_equal=True)) \n",
    "#here it returns which are diffrent in both data frames and it converts float value to integer value\n",
    "#and if there are anu same it will print NaN"
   ]
  },
  {
   "cell_type": "code",
   "execution_count": 64,
   "id": "e2ded924-46f4-4d4f-84c8-854cf89025cd",
   "metadata": {},
   "outputs": [
    {
     "name": "stdout",
     "output_type": "stream",
     "text": [
      "  Fruits        Price        Quantity        Quality      \n",
      "    self other   self  other     self other     self other\n",
      "0    NaN   NaN  100.0  120.0     15.0  12.0      NaN   NaN\n",
      "1    NaN   NaN  150.0  175.0     10.0  15.0      NaN   NaN\n",
      "2    NaN   NaN    NaN    NaN      NaN   NaN      NaN   NaN\n",
      "3    NaN   NaN   35.0   30.0      3.0   5.0  Average  Fine\n"
     ]
    }
   ],
   "source": [
    "print(df.compare(df3,keep_shape=True)) \n",
    "# same like as keep_equal=True but it shows every data in data frame which are also different "
   ]
  },
  {
   "cell_type": "code",
   "execution_count": 73,
   "id": "d47fe77c-7cdc-4c3b-92c9-7a03777b6116",
   "metadata": {},
   "outputs": [
    {
     "name": "stdout",
     "output_type": "stream",
     "text": [
      "  Key  Names Houses\n",
      "0  K1   John    Red\n",
      "1  K2    Ben   Blue\n",
      "2  K1  David  Green\n",
      "3  K2  Peter    Red\n",
      "Names   Ben  David John Peter\n",
      "Key                          \n",
      "K1      NaN  Green  Red   NaN\n",
      "K2     Blue    NaN  NaN   Red\n"
     ]
    }
   ],
   "source": [
    "#pivoting and melting Data Frames\n",
    "dict={\"Key\":[\"K1\",\"K2\",\"K1\",\"K2\"],\n",
    "     \"Names\":[\"John\",\"Ben\",\"David\",\"Peter\"],\n",
    "     \"Houses\":[\"Red\",\"Blue\",\"Green\",\"Red\"]}\n",
    "df=pd.DataFrame(dict)\n",
    "print(df)\n",
    "print(df.pivot(index=\"Key\",columns=\"Names\",values=\"Houses\"))"
   ]
  },
  {
   "cell_type": "code",
   "execution_count": 77,
   "id": "fa054c6b-92d1-4bb0-9234-f41393fa027a",
   "metadata": {},
   "outputs": [
    {
     "name": "stdout",
     "output_type": "stream",
     "text": [
      "  Key  Names Houses Grades\n",
      "0  K1   John    Red    3rd\n",
      "1  K2    Ben   Blue    8th\n",
      "2  K1  David  Green    9th\n",
      "3  K2  Peter    Red    8th\n",
      "After Pivoting:\n",
      "      Houses                   Grades                 \n",
      "Names    Ben  David John Peter    Ben David John Peter\n",
      "Key                                                   \n",
      "K1       NaN  Green  Red   NaN    NaN   9th  3rd   NaN\n",
      "K2      Blue    NaN  NaN   Red    8th   NaN  NaN   8th\n"
     ]
    }
   ],
   "source": [
    "dict={\"Key\":[\"K1\",\"K2\",\"K1\",\"K2\"],\n",
    "     \"Names\":[\"John\",\"Ben\",\"David\",\"Peter\"],\n",
    "     \"Houses\":[\"Red\",\"Blue\",\"Green\",\"Red\"],\n",
    "     \"Grades\":[\"3rd\",\"8th\",\"9th\",\"8th\"]}\n",
    "df=pd.DataFrame(dict)\n",
    "print(df)\n",
    "print(\"After Pivoting:\")\n",
    "print(df.pivot(index=\"Key\",columns=\"Names\",values=[\"Houses\",\"Grades\"]))"
   ]
  },
  {
   "cell_type": "code",
   "execution_count": 79,
   "id": "2e077113-732d-4d47-9517-b7a17723f57a",
   "metadata": {},
   "outputs": [
    {
     "name": "stdout",
     "output_type": "stream",
     "text": [
      "   Names Gender  Age\n",
      "0   Lisa      F   23\n",
      "1    Ben      M   24\n",
      "2  Maria      F   30\n",
      "3  David      M   27\n",
      "   Names variable value\n",
      "0   Lisa   Gender     F\n",
      "1    Ben   Gender     M\n",
      "2  Maria   Gender     F\n",
      "3  David   Gender     M\n",
      "4   Lisa      Age    23\n",
      "5    Ben      Age    24\n",
      "6  Maria      Age    30\n",
      "7  David      Age    27\n"
     ]
    }
   ],
   "source": [
    "#melting\n",
    "dict={\n",
    "         \"Names\":[\"Lisa\",\"Ben\",\"Maria\",\"David\"],\n",
    "         \"Gender\":[\"F\",\"M\",\"F\",\"M\"],\n",
    "         \"Age\":[23,24,30,27]\n",
    "}\n",
    "df=pd.DataFrame(dict)\n",
    "print(df)\n",
    "print(pd.melt(df,id_vars=[\"Names\"],value_vars=[\"Gender\",\"Age\"]))"
   ]
  },
  {
   "cell_type": "code",
   "execution_count": 80,
   "id": "1aca2d71-2d5b-47bd-95f5-3020cd81558d",
   "metadata": {},
   "outputs": [
    {
     "name": "stdout",
     "output_type": "stream",
     "text": [
      "   Names Gender&Age values\n",
      "0   Lisa     Gender      F\n",
      "1    Ben     Gender      M\n",
      "2  Maria     Gender      F\n",
      "3  David     Gender      M\n",
      "4   Lisa        Age     23\n",
      "5    Ben        Age     24\n",
      "6  Maria        Age     30\n",
      "7  David        Age     27\n"
     ]
    }
   ],
   "source": [
    "#giving a name to the value_vars variables as value_name\n",
    "print(pd.melt(df,id_vars=[\"Names\"],value_vars=[\"Gender\",\"Age\"],var_name=\"Gender&Age\",value_name=\"values\"))"
   ]
  },
  {
   "cell_type": "code",
   "execution_count": null,
   "id": "d684c788-df2d-415f-a57b-b5eb3972052b",
   "metadata": {},
   "outputs": [],
   "source": []
  }
 ],
 "metadata": {
  "kernelspec": {
   "display_name": "Python 3 (ipykernel)",
   "language": "python",
   "name": "python3"
  },
  "language_info": {
   "codemirror_mode": {
    "name": "ipython",
    "version": 3
   },
   "file_extension": ".py",
   "mimetype": "text/x-python",
   "name": "python",
   "nbconvert_exporter": "python",
   "pygments_lexer": "ipython3",
   "version": "3.11.7"
  }
 },
 "nbformat": 4,
 "nbformat_minor": 5
}
